{
 "cells": [
  {
   "cell_type": "code",
   "execution_count": 1,
   "id": "ac86228f",
   "metadata": {},
   "outputs": [],
   "source": [
    "from pyspark.sql import SparkSession \n",
    "import getpass \n",
    "username=getpass.getuser()\n",
    "spark=SparkSession.\\\n",
    "builder.\\\n",
    "config('spark.ui.port','0').\\\n",
    "config(\"spark.sql.warehouse.dir\",f\"/user/{username}/warehouse\").\\\n",
    "enableHiveSupport().\\\n",
    "master('yarn').\\\n",
    "getOrCreate()\n"
   ]
  },
  {
   "cell_type": "code",
   "execution_count": 2,
   "id": "dc096b4c",
   "metadata": {},
   "outputs": [
    {
     "name": "stdout",
     "output_type": "stream",
     "text": [
      "I got to know about this course by recommendation from one of my senior and i would say that the course has Excellent lectures(content) that explored my mind.\n",
      "The Sumit is very much passionate about teaching Big Data and his style of teaching is very unique and engaging the flow of course content.\n",
      "Any One can learn from the scratch and do wonders if he follows the course regularly with discipline .I highly recommend this course to everyone who is looking to learn and grow in big data domain.\n",
      "I was working in a SQL support project and wanted to switch my career to a big data domain. I got to know this course from a friend who took it and benifitted immensely in his career. I  highly recommend the Big Data course at Trendytech as the curriculum is well designed as per current industry demands and includes all the needed topics. Sumit Sir's way of explaining the topics is the best part of this course, he has  deep knowledge of the subject which makes the program worthwhile.\n",
      "Excellent support from the trendy tech"
     ]
    }
   ],
   "source": [
    "! hadoop fs -head /public/trendytech/reviews/trendytech-student-reviews.csv"
   ]
  },
  {
   "cell_type": "code",
   "execution_count": 7,
   "id": "eeb55961",
   "metadata": {},
   "outputs": [
    {
     "name": "stdout",
     "output_type": "stream",
     "text": [
      "bigLog.txt\t     friends-data.csv\t  mapreduce_jars   students.csv\n",
      "boringwords.txt      google-ads-data.csv  samplefile.txt\n",
      "customer-orders.csv  kv1.txt\t\t  search_data.txt\n"
     ]
    }
   ],
   "source": [
    "! ls  /data/trendytech"
   ]
  },
  {
   "cell_type": "code",
   "execution_count": 8,
   "id": "031ab3b7",
   "metadata": {},
   "outputs": [],
   "source": [
    "!hadoop fs -put /data/trendytech/boringwords.txt TT"
   ]
  },
  {
   "cell_type": "code",
   "execution_count": 17,
   "id": "bf213a32",
   "metadata": {},
   "outputs": [
    {
     "name": "stdout",
     "output_type": "stream",
     "text": [
      "shouldnt\n",
      "worrying\n",
      "simplify\n",
      "tidy\n",
      "shouldnt\n",
      "yep\n",
      "the\n",
      "lively\n",
      "borrow\n",
      "whichever\n",
      "swallow\n",
      "ruined\n",
      "firstly\n",
      "interestingly\n",
      "secondly\n",
      "guessing\n",
      "reuse\n",
      "frankly\n",
      "terribly\n",
      "primitive\n",
      "luckily\n",
      "simplicity\n",
      "definite\n",
      "brittle\n",
      "simplification\n",
      "werent\n",
      "confusingly\n",
      "repeating\n",
      "throwaway\n",
      "rigorous\n",
      "incorrectly\n",
      "interfering\n",
      "polluted\n",
      "offcamera\n",
      "obscure\n",
      "moaning\n",
      "rhythms\n",
      "inherit\n",
      "overly\n",
      "pause\n",
      "slash\n",
      "concise\n",
      "nicer\n",
      "simplest\n",
      "constants\n",
      "repetitive\n",
      "rehearsed\n",
      "dynamically\n",
      "paused\n",
      "suffice\n",
      "reallife\n",
      "tease\n",
      "naive\n",
      "cares\n",
      "baffled\n",
      "bounce\n",
      "nyah\n",
      "dots\n",
      "flourish\n",
      "tally\n",
      "sanity\n",
      "cleanest\n",
      "hover\n",
      "slower\n",
      "kicking\n",
      "relies\n",
      "prone\n",
      "leap\n",
      "disconnected\n",
      "blown\n",
      "rapped\n",
      "summarize\n",
      "jazzy\n",
      "fetch\n",
      "reopened\n",
      "issuing\n",
      "unroll\n",
      "downside\n",
      "concentrating\n",
      "advising\n",
      "redundant\n",
      "energetic\n",
      "theyll\n",
      "complain\n",
      "hmm\n",
      "theyd\n",
      "revert\n",
      "borrowing\n",
      "standin\n",
      "clues\n",
      "safest\n",
      "fiddly\n",
      "understandable\n",
      "neat\n",
      "horribly\n",
      "anyways\n",
      "halfway\n",
      "tidier\n",
      "invent\n",
      "traditionally\n",
      "guessed\n",
      "hated\n",
      "emmerge\n",
      "couldnt\n",
      "mightve\n",
      "inspect\n",
      "deliberately\n",
      "coincidentally\n",
      "of\n",
      "sensible\n",
      "wonderfully\n",
      "ordinarily\n",
      "eagerly\n",
      "usable\n",
      "longwinded\n",
      "bothered\n",
      "accidentally\n",
      "learnt\n",
      "dull\n",
      "warn\n",
      "comma\n",
      "hardest\n",
      "altogether\n"
     ]
    }
   ],
   "source": [
    "!hadoop fs -head /user/itv011398/TT"
   ]
  },
  {
   "cell_type": "code",
   "execution_count": 2,
   "id": "1d37ecd1",
   "metadata": {},
   "outputs": [],
   "source": [
    "og_rdd = spark.sparkContext.textFile(\"/public/trendytech/reviews/trendytech-student-reviews.csv\")"
   ]
  },
  {
   "cell_type": "code",
   "execution_count": 3,
   "id": "1a1d4caa",
   "metadata": {},
   "outputs": [
    {
     "data": {
      "text/plain": [
       "['I got to know about this course by recommendation from one of my senior and i would say that the course has Excellent lectures(content) that explored my mind.',\n",
       " 'The Sumit is very much passionate about teaching Big Data and his style of teaching is very unique and engaging the flow of course content.',\n",
       " 'Any One can learn from the scratch and do wonders if he follows the course regularly with discipline .I highly recommend this course to everyone who is looking to learn and grow in big data domain.',\n",
       " \"I was working in a SQL support project and wanted to switch my career to a big data domain. I got to know this course from a friend who took it and benifitted immensely in his career. I  highly recommend the Big Data course at Trendytech as the curriculum is well designed as per current industry demands and includes all the needed topics. Sumit Sir's way of explaining the topics is the best part of this course, he has  deep knowledge of the subject which makes the program worthwhile.\",\n",
       " 'Excellent support from the trendy tech team and live sessions keeps you relevant and achieve your goals.']"
      ]
     },
     "execution_count": 3,
     "metadata": {},
     "output_type": "execute_result"
    }
   ],
   "source": [
    "og_rdd.take(5)"
   ]
  },
  {
   "cell_type": "code",
   "execution_count": 8,
   "id": "191ab55f",
   "metadata": {},
   "outputs": [],
   "source": [
    "og_rdd_map = og_rdd.flatMap(lambda x : x.split(\" \")).map(lambda x : (x.lower(),1)).reduceByKey(lambda x,y:x+y)"
   ]
  },
  {
   "cell_type": "code",
   "execution_count": 9,
   "id": "bc892b19",
   "metadata": {},
   "outputs": [
    {
     "data": {
      "text/plain": [
       "[('i', 215), ('got', 7), ('know', 11), ('this', 135), ('of', 182)]"
      ]
     },
     "execution_count": 9,
     "metadata": {},
     "output_type": "execute_result"
    }
   ],
   "source": [
    "og_rdd_map.take(5)"
   ]
  },
  {
   "cell_type": "code",
   "execution_count": 11,
   "id": "fbf3bcea",
   "metadata": {},
   "outputs": [],
   "source": [
    "stop_word_rdd = spark.sparkContext.textFile(\"/user/itv011398/TT\")"
   ]
  },
  {
   "cell_type": "code",
   "execution_count": 12,
   "id": "41baf274",
   "metadata": {},
   "outputs": [
    {
     "data": {
      "text/plain": [
       "['shouldnt', 'worrying', 'simplify', 'tidy', 'shouldnt']"
      ]
     },
     "execution_count": 12,
     "metadata": {},
     "output_type": "execute_result"
    }
   ],
   "source": [
    "stop_word_rdd.take(5)"
   ]
  },
  {
   "cell_type": "code",
   "execution_count": 20,
   "id": "2595fe53",
   "metadata": {},
   "outputs": [],
   "source": [
    "stop_word_map = stop_word_rdd.map(lambda x : x.lower())"
   ]
  },
  {
   "cell_type": "code",
   "execution_count": 21,
   "id": "f84b2484",
   "metadata": {},
   "outputs": [
    {
     "data": {
      "text/plain": [
       "['shouldnt', 'worrying', 'simplify', 'tidy', 'shouldnt']"
      ]
     },
     "execution_count": 21,
     "metadata": {},
     "output_type": "execute_result"
    }
   ],
   "source": [
    "stop_word_map.take(5)"
   ]
  },
  {
   "cell_type": "code",
   "execution_count": 22,
   "id": "c72f6e04",
   "metadata": {},
   "outputs": [],
   "source": [
    "broadcast_rdd = spark.sparkContext.broadcast(stop_word_map.collect())"
   ]
  },
  {
   "cell_type": "code",
   "execution_count": 25,
   "id": "87f6b64a",
   "metadata": {},
   "outputs": [],
   "source": [
    "meaninful_rdd = og_rdd_map.filter(lambda x : x[0] not in broadcast_rdd.value).sortBy(lambda x : x[])"
   ]
  },
  {
   "cell_type": "code",
   "execution_count": 26,
   "id": "2e0991a2",
   "metadata": {},
   "outputs": [
    {
     "data": {
      "text/plain": [
       "[('lectures(content)', 1),\n",
       " ('explored', 1),\n",
       " ('sumit', 109),\n",
       " ('passionate', 6),\n",
       " ('wonders', 1)]"
      ]
     },
     "execution_count": 26,
     "metadata": {},
     "output_type": "execute_result"
    }
   ],
   "source": [
    "meaninful_rdd.take(5)"
   ]
  },
  {
   "cell_type": "code",
   "execution_count": null,
   "id": "541cf57b",
   "metadata": {},
   "outputs": [],
   "source": [
    "meaninful_rdd."
   ]
  }
 ],
 "metadata": {
  "kernelspec": {
   "display_name": "Pyspark 3",
   "language": "python",
   "name": "pyspark3"
  },
  "language_info": {
   "codemirror_mode": {
    "name": "ipython",
    "version": 3
   },
   "file_extension": ".py",
   "mimetype": "text/x-python",
   "name": "python",
   "nbconvert_exporter": "python",
   "pygments_lexer": "ipython3",
   "version": "3.6.12"
  }
 },
 "nbformat": 4,
 "nbformat_minor": 5
}
