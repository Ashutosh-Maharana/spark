{
 "cells": [
  {
   "cell_type": "code",
   "execution_count": 45,
   "id": "44cd041a",
   "metadata": {},
   "outputs": [],
   "source": [
    "from pyspark.sql import SparkSession\n",
    "import getpass\n",
    "username = getpass.getuser()\n",
    "spark = SparkSession. \\\n",
    "builder. \\\n",
    "config('spark.ui.port', '0'). \\\n",
    "config(\"spark.sql.warehouse.dir\", f\"/user/{username}/warehouse\"). \\\n",
    "enableHiveSupport(). \\\n",
    "master('yarn'). \\\n",
    "getOrCreate()"
   ]
  },
  {
   "cell_type": "markdown",
   "id": "cd9e2f7b",
   "metadata": {},
   "source": [
    "orders schema = order_id, order_date, order_customer_id, order_status"
   ]
  },
  {
   "cell_type": "code",
   "execution_count": 46,
   "id": "f300072d",
   "metadata": {},
   "outputs": [],
   "source": [
    "orders_rdd = spark.sparkContext.textFile(\"/public/trendytech/retail_db/orders/*\")"
   ]
  },
  {
   "cell_type": "markdown",
   "id": "66df451b",
   "metadata": {},
   "source": [
    "order_items schema = order_item_id, order_id, order_item_product_id, order_item_quantity, order_item_subtotal, order_item_product_price"
   ]
  },
  {
   "cell_type": "code",
   "execution_count": 47,
   "id": "dfc95ce6",
   "metadata": {},
   "outputs": [],
   "source": [
    "order_items_rdd=spark.sparkContext.textFile(\"/public/trendytech/retail_db/order_items/*\")"
   ]
  },
  {
   "cell_type": "markdown",
   "id": "62679e9a",
   "metadata": {},
   "source": [
    "customers schema = customer_id,customer_fname,customer_lname,customer_email,customer_password,customer_street,customer_city,customer_state,customer_zipcode"
   ]
  },
  {
   "cell_type": "code",
   "execution_count": 48,
   "id": "f38756bd",
   "metadata": {},
   "outputs": [],
   "source": [
    "customers_rdd = spark.sparkContext.textFile(\"/public/trendytech/retail_db/customers/*\")"
   ]
  },
  {
   "cell_type": "code",
   "execution_count": 49,
   "id": "0fc10d16",
   "metadata": {},
   "outputs": [
    {
     "data": {
      "text/plain": [
       "['1,Richard,Hernandez,XXXXXXXXX,XXXXXXXXX,6303 Heather Plaza,Brownsville,TX,78521',\n",
       " '2,Mary,Barrett,XXXXXXXXX,XXXXXXXXX,9526 Noble Embers Ridge,Littleton,CO,80126',\n",
       " '3,Ann,Smith,XXXXXXXXX,XXXXXXXXX,3422 Blue Pioneer Bend,Caguas,PR,00725',\n",
       " '4,Mary,Jones,XXXXXXXXX,XXXXXXXXX,8324 Little Common,San Marcos,CA,92069',\n",
       " '5,Robert,Hudson,XXXXXXXXX,XXXXXXXXX,\"10 Crystal River Mall \",Caguas,PR,00725']"
      ]
     },
     "execution_count": 49,
     "metadata": {},
     "output_type": "execute_result"
    }
   ],
   "source": [
    "customers_rdd.take(5)"
   ]
  },
  {
   "cell_type": "code",
   "execution_count": 50,
   "id": "ad3e8ca7",
   "metadata": {},
   "outputs": [
    {
     "data": {
      "text/plain": [
       "['1,2013-07-25 00:00:00.0,11599,CLOSED',\n",
       " '2,2013-07-25 00:00:00.0,256,PENDING_PAYMENT',\n",
       " '3,2013-07-25 00:00:00.0,12111,COMPLETE',\n",
       " '4,2013-07-25 00:00:00.0,8827,CLOSED',\n",
       " '5,2013-07-25 00:00:00.0,11318,COMPLETE']"
      ]
     },
     "execution_count": 50,
     "metadata": {},
     "output_type": "execute_result"
    }
   ],
   "source": [
    "orders_rdd.take(5)"
   ]
  },
  {
   "cell_type": "code",
   "execution_count": 51,
   "id": "8d3b3c4b",
   "metadata": {},
   "outputs": [
    {
     "data": {
      "text/plain": [
       "['1,1,957,1,299.98,299.98',\n",
       " '2,2,1073,1,199.99,199.99',\n",
       " '3,2,502,5,250.0,50.0',\n",
       " '4,2,403,1,129.99,129.99',\n",
       " '5,4,897,2,49.98,24.99']"
      ]
     },
     "execution_count": 51,
     "metadata": {},
     "output_type": "execute_result"
    }
   ],
   "source": [
    "order_items_rdd.take(5)"
   ]
  },
  {
   "cell_type": "code",
   "execution_count": 52,
   "id": "1a68d547",
   "metadata": {},
   "outputs": [],
   "source": [
    "# top 10 customers who who spent the most"
   ]
  },
  {
   "cell_type": "code",
   "execution_count": 53,
   "id": "420b82cd",
   "metadata": {},
   "outputs": [
    {
     "data": {
      "text/plain": [
       "[(1, 299.98), (2, 199.99), (2, 250.0), (2, 129.99), (4, 49.98)]"
      ]
     },
     "execution_count": 53,
     "metadata": {},
     "output_type": "execute_result"
    }
   ],
   "source": [
    "order_items_map = order_items_rdd.map(lambda x:((int(x.split(',')[1]),float(x.split(',')[4]))))\n",
    "order_items_map.take(5)"
   ]
  },
  {
   "cell_type": "code",
   "execution_count": 54,
   "id": "bc2b393a",
   "metadata": {},
   "outputs": [
    {
     "data": {
      "text/plain": [
       "[(1, 11599), (2, 256), (3, 12111), (4, 8827), (5, 11318)]"
      ]
     },
     "execution_count": 54,
     "metadata": {},
     "output_type": "execute_result"
    }
   ],
   "source": [
    "orders_map = orders_rdd.map(lambda x:(int(x.split(',')[0]),(int(x.split(',')[2]))))\n",
    "orders_map.take(5)"
   ]
  },
  {
   "cell_type": "code",
   "execution_count": 55,
   "id": "d733f9d3",
   "metadata": {},
   "outputs": [
    {
     "data": {
      "text/plain": [
       "[(35212, (49.98, 8774)),\n",
       " (35212, (299.97, 8774)),\n",
       " (35212, (249.9, 8774)),\n",
       " (35212, (49.98, 8774)),\n",
       " (35212, (149.94, 8774))]"
      ]
     },
     "execution_count": 55,
     "metadata": {},
     "output_type": "execute_result"
    }
   ],
   "source": [
    "join_rdd = order_items_map.join(orders_map)\n",
    "join_rdd.take(5)"
   ]
  },
  {
   "cell_type": "code",
   "execution_count": 56,
   "id": "26dae5a9",
   "metadata": {},
   "outputs": [
    {
     "data": {
      "text/plain": [
       "[(8774, 49.98), (8774, 299.97), (8774, 249.9), (8774, 49.98), (8774, 149.94)]"
      ]
     },
     "execution_count": 56,
     "metadata": {},
     "output_type": "execute_result"
    }
   ],
   "source": [
    "mapped_rdd = join_rdd.map(lambda x:(x[1][1],x[1][0]))\n",
    "mapped_rdd.take(5)"
   ]
  },
  {
   "cell_type": "code",
   "execution_count": 57,
   "id": "11006c37",
   "metadata": {},
   "outputs": [
    {
     "data": {
      "text/plain": [
       "[(791, 10524.169999999996),\n",
       " (9371, 9299.029999999999),\n",
       " (8766, 9296.14),\n",
       " (1657, 9223.71),\n",
       " (2641, 9130.92),\n",
       " (1288, 9019.11),\n",
       " (3710, 9019.099999999999),\n",
       " (4249, 8918.85),\n",
       " (5654, 8904.95),\n",
       " (5624, 8761.98)]"
      ]
     },
     "execution_count": 57,
     "metadata": {},
     "output_type": "execute_result"
    }
   ],
   "source": [
    "# Reduce by key customer\n",
    "reduced_rdd = mapped_rdd.reduceByKey(lambda x,y : x+y).sortBy(lambda x : x[1],ascending=False)\n",
    "reduced_rdd.take(10)\n"
   ]
  },
  {
   "cell_type": "code",
   "execution_count": 58,
   "id": "da674354",
   "metadata": {},
   "outputs": [],
   "source": [
    "# no of csuomters from Caguas city"
   ]
  },
  {
   "cell_type": "code",
   "execution_count": 59,
   "id": "13b64505",
   "metadata": {},
   "outputs": [],
   "source": [
    "mapped_rdd = customers_rdd.map(lambda x:x.split(\",\")[6])"
   ]
  },
  {
   "cell_type": "code",
   "execution_count": 60,
   "id": "127be09a",
   "metadata": {},
   "outputs": [
    {
     "data": {
      "text/plain": [
       "['Brownsville', 'Littleton', 'Caguas', 'San Marcos', 'Caguas']"
      ]
     },
     "execution_count": 60,
     "metadata": {},
     "output_type": "execute_result"
    }
   ],
   "source": [
    "mapped_rdd.take(5)"
   ]
  },
  {
   "cell_type": "code",
   "execution_count": 61,
   "id": "11b2c99d",
   "metadata": {},
   "outputs": [],
   "source": [
    "final_count = mapped_rdd.filter( lambda x :  x== 'Caguas').count()"
   ]
  },
  {
   "cell_type": "code",
   "execution_count": 62,
   "id": "d7a0681c",
   "metadata": {},
   "outputs": [
    {
     "data": {
      "text/plain": [
       "4584"
      ]
     },
     "execution_count": 62,
     "metadata": {},
     "output_type": "execute_result"
    }
   ],
   "source": [
    "final_count"
   ]
  },
  {
   "cell_type": "code",
   "execution_count": 63,
   "id": "748816f9",
   "metadata": {},
   "outputs": [],
   "source": [
    "# Top 3 states with maximum customers"
   ]
  },
  {
   "cell_type": "code",
   "execution_count": 65,
   "id": "351acea9",
   "metadata": {},
   "outputs": [
    {
     "data": {
      "text/plain": [
       "[('PR', 4771), ('CA', 2012), ('NY', 775)]"
      ]
     },
     "execution_count": 65,
     "metadata": {},
     "output_type": "execute_result"
    }
   ],
   "source": [
    "mapped_rdd = customers_rdd.map(lambda x : (x.split(\",\")[7],1)).reduceByKey(lambda x,y : x+y).sortBy(lambda x : x[1],ascending = False).take(3)\n",
    "mapped_rdd"
   ]
  },
  {
   "cell_type": "code",
   "execution_count": 66,
   "id": "6f312294",
   "metadata": {},
   "outputs": [],
   "source": [
    "# no of Customers_haivng more than $1000 in total"
   ]
  },
  {
   "cell_type": "code",
   "execution_count": 67,
   "id": "50630f3f",
   "metadata": {},
   "outputs": [
    {
     "data": {
      "text/plain": [
       "11148"
      ]
     },
     "execution_count": 67,
     "metadata": {},
     "output_type": "execute_result"
    }
   ],
   "source": [
    "no = join_rdd.map(lambda x:(x[1][1],x[1][0])).reduceByKey(lambda x,y:x+y).filter(lambda x : x[1] > 1000).count()\n",
    "no"
   ]
  },
  {
   "cell_type": "code",
   "execution_count": 68,
   "id": "3b4512d9",
   "metadata": {},
   "outputs": [],
   "source": [
    "# state with most number of closed status"
   ]
  },
  {
   "cell_type": "code",
   "execution_count": 69,
   "id": "48a37901",
   "metadata": {},
   "outputs": [],
   "source": [
    "orders_map = orders_rdd.map(lambda x:((int(x.split(',')[2])),(x.split(',')[3]))).filter(lambda x :x[1]=='CLOSED')"
   ]
  },
  {
   "cell_type": "code",
   "execution_count": 70,
   "id": "e145de88",
   "metadata": {},
   "outputs": [
    {
     "data": {
      "text/plain": [
       "[(11599, 'CLOSED'),\n",
       " (8827, 'CLOSED'),\n",
       " (1837, 'CLOSED'),\n",
       " (1205, 'CLOSED'),\n",
       " (11441, 'CLOSED')]"
      ]
     },
     "execution_count": 70,
     "metadata": {},
     "output_type": "execute_result"
    }
   ],
   "source": [
    "orders_map.take(5)"
   ]
  },
  {
   "cell_type": "code",
   "execution_count": 71,
   "id": "24d68bff",
   "metadata": {},
   "outputs": [
    {
     "data": {
      "text/plain": [
       "[(1, 'TX'), (2, 'CO'), (3, 'PR'), (4, 'CA'), (5, 'PR')]"
      ]
     },
     "execution_count": 71,
     "metadata": {},
     "output_type": "execute_result"
    }
   ],
   "source": [
    "customers_map = customers_rdd.map(lambda x :(int(x.split(',')[0]),x.split(',')[7]))\n",
    "customers_map.take(5)"
   ]
  },
  {
   "cell_type": "code",
   "execution_count": 73,
   "id": "7de236af",
   "metadata": {},
   "outputs": [
    {
     "data": {
      "text/plain": [
       "[('WV', 15), ('WI', 44), ('WA', 47), ('VA', 97), ('UT', 45)]"
      ]
     },
     "execution_count": 73,
     "metadata": {},
     "output_type": "execute_result"
    }
   ],
   "source": [
    "join_data = orders_map.join(customers_map).map(lambda x : (x[1][1],1)).reduceByKey(lambda x,y :x+y).sortBy(lambda x : x[0],ascending = False)\n",
    "join_data.take(5)"
   ]
  },
  {
   "cell_type": "code",
   "execution_count": null,
   "id": "f64dd50e",
   "metadata": {},
   "outputs": [],
   "source": []
  }
 ],
 "metadata": {
  "kernelspec": {
   "display_name": "Pyspark 3",
   "language": "python",
   "name": "pyspark3"
  },
  "language_info": {
   "codemirror_mode": {
    "name": "ipython",
    "version": 3
   },
   "file_extension": ".py",
   "mimetype": "text/x-python",
   "name": "python",
   "nbconvert_exporter": "python",
   "pygments_lexer": "ipython3",
   "version": "3.6.12"
  }
 },
 "nbformat": 4,
 "nbformat_minor": 5
}
